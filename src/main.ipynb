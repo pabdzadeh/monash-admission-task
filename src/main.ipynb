{
  "cells": [
    {
      "metadata": {
        "id": "7b8c9d0b470769dc"
      },
      "cell_type": "markdown",
      "source": [
        "# Install CLIP\n"
      ],
      "id": "7b8c9d0b470769dc"
    },
    {
      "metadata": {
        "collapsed": true,
        "id": "initial_id",
        "outputId": "fb78ab27-b0d9-4b83-dc78-1c23f3af2574",
        "colab": {
          "base_uri": "https://localhost:8080/"
        }
      },
      "cell_type": "code",
      "outputs": [
        {
          "output_type": "stream",
          "name": "stdout",
          "text": [
            "Collecting open_clip_torch\n",
            "  Downloading open_clip_torch-3.1.0-py3-none-any.whl.metadata (32 kB)\n",
            "Requirement already satisfied: torch>=2.0 in /usr/local/lib/python3.12/dist-packages (from open_clip_torch) (2.8.0+cu126)\n",
            "Requirement already satisfied: torchvision in /usr/local/lib/python3.12/dist-packages (from open_clip_torch) (0.23.0+cu126)\n",
            "Requirement already satisfied: regex in /usr/local/lib/python3.12/dist-packages (from open_clip_torch) (2024.11.6)\n",
            "Collecting ftfy (from open_clip_torch)\n",
            "  Downloading ftfy-6.3.1-py3-none-any.whl.metadata (7.3 kB)\n",
            "Requirement already satisfied: tqdm in /usr/local/lib/python3.12/dist-packages (from open_clip_torch) (4.67.1)\n",
            "Requirement already satisfied: huggingface-hub in /usr/local/lib/python3.12/dist-packages (from open_clip_torch) (0.34.4)\n",
            "Requirement already satisfied: safetensors in /usr/local/lib/python3.12/dist-packages (from open_clip_torch) (0.6.2)\n",
            "Requirement already satisfied: timm>=1.0.17 in /usr/local/lib/python3.12/dist-packages (from open_clip_torch) (1.0.19)\n",
            "Requirement already satisfied: pyyaml in /usr/local/lib/python3.12/dist-packages (from timm>=1.0.17->open_clip_torch) (6.0.2)\n",
            "Requirement already satisfied: filelock in /usr/local/lib/python3.12/dist-packages (from torch>=2.0->open_clip_torch) (3.19.1)\n",
            "Requirement already satisfied: typing-extensions>=4.10.0 in /usr/local/lib/python3.12/dist-packages (from torch>=2.0->open_clip_torch) (4.14.1)\n",
            "Requirement already satisfied: setuptools in /usr/local/lib/python3.12/dist-packages (from torch>=2.0->open_clip_torch) (75.2.0)\n",
            "Requirement already satisfied: sympy>=1.13.3 in /usr/local/lib/python3.12/dist-packages (from torch>=2.0->open_clip_torch) (1.13.3)\n",
            "Requirement already satisfied: networkx in /usr/local/lib/python3.12/dist-packages (from torch>=2.0->open_clip_torch) (3.5)\n",
            "Requirement already satisfied: jinja2 in /usr/local/lib/python3.12/dist-packages (from torch>=2.0->open_clip_torch) (3.1.6)\n",
            "Requirement already satisfied: fsspec in /usr/local/lib/python3.12/dist-packages (from torch>=2.0->open_clip_torch) (2025.3.0)\n",
            "Requirement already satisfied: nvidia-cuda-nvrtc-cu12==12.6.77 in /usr/local/lib/python3.12/dist-packages (from torch>=2.0->open_clip_torch) (12.6.77)\n",
            "Requirement already satisfied: nvidia-cuda-runtime-cu12==12.6.77 in /usr/local/lib/python3.12/dist-packages (from torch>=2.0->open_clip_torch) (12.6.77)\n",
            "Requirement already satisfied: nvidia-cuda-cupti-cu12==12.6.80 in /usr/local/lib/python3.12/dist-packages (from torch>=2.0->open_clip_torch) (12.6.80)\n",
            "Requirement already satisfied: nvidia-cudnn-cu12==9.10.2.21 in /usr/local/lib/python3.12/dist-packages (from torch>=2.0->open_clip_torch) (9.10.2.21)\n",
            "Requirement already satisfied: nvidia-cublas-cu12==12.6.4.1 in /usr/local/lib/python3.12/dist-packages (from torch>=2.0->open_clip_torch) (12.6.4.1)\n",
            "Requirement already satisfied: nvidia-cufft-cu12==11.3.0.4 in /usr/local/lib/python3.12/dist-packages (from torch>=2.0->open_clip_torch) (11.3.0.4)\n",
            "Requirement already satisfied: nvidia-curand-cu12==10.3.7.77 in /usr/local/lib/python3.12/dist-packages (from torch>=2.0->open_clip_torch) (10.3.7.77)\n",
            "Requirement already satisfied: nvidia-cusolver-cu12==11.7.1.2 in /usr/local/lib/python3.12/dist-packages (from torch>=2.0->open_clip_torch) (11.7.1.2)\n",
            "Requirement already satisfied: nvidia-cusparse-cu12==12.5.4.2 in /usr/local/lib/python3.12/dist-packages (from torch>=2.0->open_clip_torch) (12.5.4.2)\n",
            "Requirement already satisfied: nvidia-cusparselt-cu12==0.7.1 in /usr/local/lib/python3.12/dist-packages (from torch>=2.0->open_clip_torch) (0.7.1)\n",
            "Requirement already satisfied: nvidia-nccl-cu12==2.27.3 in /usr/local/lib/python3.12/dist-packages (from torch>=2.0->open_clip_torch) (2.27.3)\n",
            "Requirement already satisfied: nvidia-nvtx-cu12==12.6.77 in /usr/local/lib/python3.12/dist-packages (from torch>=2.0->open_clip_torch) (12.6.77)\n",
            "Requirement already satisfied: nvidia-nvjitlink-cu12==12.6.85 in /usr/local/lib/python3.12/dist-packages (from torch>=2.0->open_clip_torch) (12.6.85)\n",
            "Requirement already satisfied: nvidia-cufile-cu12==1.11.1.6 in /usr/local/lib/python3.12/dist-packages (from torch>=2.0->open_clip_torch) (1.11.1.6)\n",
            "Requirement already satisfied: triton==3.4.0 in /usr/local/lib/python3.12/dist-packages (from torch>=2.0->open_clip_torch) (3.4.0)\n",
            "Requirement already satisfied: wcwidth in /usr/local/lib/python3.12/dist-packages (from ftfy->open_clip_torch) (0.2.13)\n",
            "Requirement already satisfied: packaging>=20.9 in /usr/local/lib/python3.12/dist-packages (from huggingface-hub->open_clip_torch) (25.0)\n",
            "Requirement already satisfied: requests in /usr/local/lib/python3.12/dist-packages (from huggingface-hub->open_clip_torch) (2.32.4)\n",
            "Requirement already satisfied: hf-xet<2.0.0,>=1.1.3 in /usr/local/lib/python3.12/dist-packages (from huggingface-hub->open_clip_torch) (1.1.7)\n",
            "Requirement already satisfied: numpy in /usr/local/lib/python3.12/dist-packages (from torchvision->open_clip_torch) (2.0.2)\n",
            "Requirement already satisfied: pillow!=8.3.*,>=5.3.0 in /usr/local/lib/python3.12/dist-packages (from torchvision->open_clip_torch) (11.3.0)\n",
            "Requirement already satisfied: mpmath<1.4,>=1.1.0 in /usr/local/lib/python3.12/dist-packages (from sympy>=1.13.3->torch>=2.0->open_clip_torch) (1.3.0)\n",
            "Requirement already satisfied: MarkupSafe>=2.0 in /usr/local/lib/python3.12/dist-packages (from jinja2->torch>=2.0->open_clip_torch) (3.0.2)\n",
            "Requirement already satisfied: charset_normalizer<4,>=2 in /usr/local/lib/python3.12/dist-packages (from requests->huggingface-hub->open_clip_torch) (3.4.3)\n",
            "Requirement already satisfied: idna<4,>=2.5 in /usr/local/lib/python3.12/dist-packages (from requests->huggingface-hub->open_clip_torch) (3.10)\n",
            "Requirement already satisfied: urllib3<3,>=1.21.1 in /usr/local/lib/python3.12/dist-packages (from requests->huggingface-hub->open_clip_torch) (2.5.0)\n",
            "Requirement already satisfied: certifi>=2017.4.17 in /usr/local/lib/python3.12/dist-packages (from requests->huggingface-hub->open_clip_torch) (2025.8.3)\n",
            "Downloading open_clip_torch-3.1.0-py3-none-any.whl (1.5 MB)\n",
            "\u001b[2K   \u001b[90m━━━━━━━━━━━━━━━━━━━━━━━━━━━━━━━━━━━━━━━━\u001b[0m \u001b[32m1.5/1.5 MB\u001b[0m \u001b[31m39.3 MB/s\u001b[0m eta \u001b[36m0:00:00\u001b[0m\n",
            "\u001b[?25hDownloading ftfy-6.3.1-py3-none-any.whl (44 kB)\n",
            "\u001b[2K   \u001b[90m━━━━━━━━━━━━━━━━━━━━━━━━━━━━━━━━━━━━━━━━\u001b[0m \u001b[32m44.8/44.8 kB\u001b[0m \u001b[31m4.4 MB/s\u001b[0m eta \u001b[36m0:00:00\u001b[0m\n",
            "\u001b[?25hInstalling collected packages: ftfy, open_clip_torch\n",
            "Successfully installed ftfy-6.3.1 open_clip_torch-3.1.0\n"
          ]
        }
      ],
      "execution_count": 1,
      "source": [
        "!pip install open_clip_torch\n"
      ],
      "id": "initial_id"
    },
    {
      "cell_type": "markdown",
      "source": [
        "# Clone Repository"
      ],
      "metadata": {
        "id": "BMkGOt70cQU1"
      },
      "id": "BMkGOt70cQU1"
    },
    {
      "cell_type": "code",
      "source": [
        "!git clone https://github.com/pabdzadeh/monash-admission-task.git"
      ],
      "metadata": {
        "id": "vVPgLXPtcNx7",
        "outputId": "f710a5e9-58dc-467a-8bab-3cbcb7c75452",
        "colab": {
          "base_uri": "https://localhost:8080/"
        }
      },
      "id": "vVPgLXPtcNx7",
      "execution_count": 5,
      "outputs": [
        {
          "output_type": "stream",
          "name": "stdout",
          "text": [
            "fatal: destination path 'monash-admission-task' already exists and is not an empty directory.\n"
          ]
        }
      ]
    },
    {
      "cell_type": "markdown",
      "source": [
        "# Run vanilla ViT-B zero_shot evaluation on CIFAR-10"
      ],
      "metadata": {
        "id": "2fg_4ktaTmj_"
      },
      "id": "2fg_4ktaTmj_"
    },
    {
      "cell_type": "code",
      "source": [
        "!python monash-admission-task/src/main.py"
      ],
      "metadata": {
        "id": "XBOtcorD4TTU",
        "outputId": "1e29a57f-0f2e-44b7-a8c5-073db7d5e309",
        "colab": {
          "base_uri": "https://localhost:8080/"
        }
      },
      "id": "XBOtcorD4TTU",
      "execution_count": 6,
      "outputs": [
        {
          "output_type": "stream",
          "name": "stdout",
          "text": [
            "usage: main.py [-h] [--batch_size BATCH_SIZE] [--output_dir OUTPUT_DIR]\n",
            "               [--zero_shot ZERO_SHOT]\n",
            "\n",
            "Provide training and testing pipeline.\n",
            "\n",
            "options:\n",
            "  -h, --help            show this help message and exit\n",
            "  --batch_size BATCH_SIZE\n",
            "                        batch size for training and evaluation\n",
            "  --output_dir OUTPUT_DIR\n",
            "                        checkpoints root dir\n",
            "  --zero_shot ZERO_SHOT\n",
            "                        evaluation mode\n",
            "100% 170M/170M [00:04<00:00, 41.9MB/s]\n",
            "WARNING:root:No pretrained weights loaded for model 'ViT-B-32'. Model initialized randomly.\n",
            "[Batch   0/625] Batch Acc:  18.75%\n",
            "[Batch  10/625] Batch Acc:  12.50%\n",
            "[Batch  20/625] Batch Acc:  18.75%\n",
            "[Batch  30/625] Batch Acc:   6.25%\n",
            "[Batch  40/625] Batch Acc:   6.25%\n",
            "[Batch  50/625] Batch Acc:   0.00%\n",
            "[Batch  60/625] Batch Acc:   0.00%\n",
            "[Batch  70/625] Batch Acc:  12.50%\n",
            "[Batch  80/625] Batch Acc:   6.25%\n",
            "[Batch  90/625] Batch Acc:   6.25%\n",
            "[Batch 100/625] Batch Acc:   0.00%\n",
            "[Batch 110/625] Batch Acc:   6.25%\n",
            "[Batch 120/625] Batch Acc:  12.50%\n",
            "[Batch 130/625] Batch Acc:   6.25%\n",
            "[Batch 140/625] Batch Acc:   6.25%\n",
            "[Batch 150/625] Batch Acc:  12.50%\n",
            "[Batch 160/625] Batch Acc:  12.50%\n",
            "[Batch 170/625] Batch Acc:   6.25%\n",
            "[Batch 180/625] Batch Acc:  18.75%\n",
            "[Batch 190/625] Batch Acc:   6.25%\n",
            "[Batch 200/625] Batch Acc:   0.00%\n",
            "[Batch 210/625] Batch Acc:  12.50%\n",
            "[Batch 220/625] Batch Acc:  12.50%\n",
            "[Batch 230/625] Batch Acc:   6.25%\n",
            "[Batch 240/625] Batch Acc:   6.25%\n",
            "[Batch 250/625] Batch Acc:   6.25%\n",
            "[Batch 260/625] Batch Acc:  12.50%\n",
            "[Batch 270/625] Batch Acc:  12.50%\n",
            "[Batch 280/625] Batch Acc:   6.25%\n",
            "[Batch 290/625] Batch Acc:  12.50%\n",
            "[Batch 300/625] Batch Acc:   0.00%\n",
            "[Batch 310/625] Batch Acc:   0.00%\n",
            "[Batch 320/625] Batch Acc:  18.75%\n",
            "[Batch 330/625] Batch Acc:  12.50%\n",
            "[Batch 340/625] Batch Acc:  18.75%\n",
            "[Batch 350/625] Batch Acc:  12.50%\n",
            "[Batch 360/625] Batch Acc:   6.25%\n",
            "[Batch 370/625] Batch Acc:  12.50%\n",
            "[Batch 380/625] Batch Acc:   6.25%\n",
            "[Batch 390/625] Batch Acc:  12.50%\n",
            "[Batch 400/625] Batch Acc:   6.25%\n",
            "[Batch 410/625] Batch Acc:  12.50%\n",
            "[Batch 420/625] Batch Acc:  12.50%\n",
            "[Batch 430/625] Batch Acc:  12.50%\n",
            "[Batch 440/625] Batch Acc:   6.25%\n",
            "[Batch 450/625] Batch Acc:  12.50%\n",
            "[Batch 460/625] Batch Acc:  25.00%\n",
            "[Batch 470/625] Batch Acc:  12.50%\n",
            "[Batch 480/625] Batch Acc:  18.75%\n",
            "[Batch 490/625] Batch Acc:  12.50%\n",
            "[Batch 500/625] Batch Acc:   6.25%\n",
            "[Batch 510/625] Batch Acc:  31.25%\n",
            "[Batch 520/625] Batch Acc:   6.25%\n",
            "[Batch 530/625] Batch Acc:   0.00%\n",
            "[Batch 540/625] Batch Acc:   0.00%\n",
            "[Batch 550/625] Batch Acc:  25.00%\n",
            "[Batch 560/625] Batch Acc:  12.50%\n",
            "[Batch 570/625] Batch Acc:   0.00%\n",
            "[Batch 580/625] Batch Acc:   6.25%\n",
            "[Batch 590/625] Batch Acc:   6.25%\n",
            "[Batch 600/625] Batch Acc:  18.75%\n",
            "[Batch 610/625] Batch Acc:   0.00%\n",
            "[Batch 620/625] Batch Acc:  12.50%\n",
            "==================================================\n",
            "📊 Evaluation Results\n",
            "   • Accuracy : 9.96% (996/10000)\n",
            "==================================================\n"
          ]
        }
      ]
    }
  ],
  "metadata": {
    "kernelspec": {
      "display_name": "Python 3",
      "name": "python3"
    },
    "language_info": {
      "codemirror_mode": {
        "name": "ipython",
        "version": 2
      },
      "file_extension": ".py",
      "mimetype": "text/x-python",
      "name": "python",
      "nbconvert_exporter": "python",
      "pygments_lexer": "ipython2",
      "version": "2.7.6"
    },
    "colab": {
      "provenance": [],
      "gpuType": "T4"
    },
    "accelerator": "GPU"
  },
  "nbformat": 4,
  "nbformat_minor": 5
}